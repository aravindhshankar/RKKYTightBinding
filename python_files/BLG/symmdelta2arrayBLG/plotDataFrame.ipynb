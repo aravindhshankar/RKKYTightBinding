{
 "cells": [
  {
   "cell_type": "code",
   "execution_count": 1,
   "id": "02fc88bc-2840-4173-bdc2-b982b04693c1",
   "metadata": {},
   "outputs": [],
   "source": [
    "import numpy as np \n",
    "import pandas as pd\n",
    "from matplotlib import pyplot as plt\n",
    "import sys, os\n",
    "path_to_csv = './csvresults/'"
   ]
  },
  {
   "cell_type": "code",
   "execution_count": 2,
   "id": "6b4a01c7-d631-4ce2-8c71-67b9635d4750",
   "metadata": {},
   "outputs": [
    {
     "name": "stdout",
     "output_type": "stream",
     "text": [
      "csv file f0_complete_grid_results.csv not found\n",
      "csv file f1_complete_grid_results.csv not found\n",
      "csv file f2_complete_grid_results.csv not found\n",
      "csv file f3_complete_grid_results.csv not found\n",
      "csv file f4_complete_grid_results.csv not found\n",
      "csv file f5_complete_grid_results.csv not found\n",
      "csv file f6_complete_grid_results.csv not found\n",
      "csv file f7_complete_grid_results.csv not found\n"
     ]
    },
    {
     "ename": "IndexError",
     "evalue": "list index out of range",
     "output_type": "error",
     "traceback": [
      "\u001b[0;31m---------------------------------------------------------------------------\u001b[0m",
      "\u001b[0;31mIndexError\u001b[0m                                Traceback (most recent call last)",
      "Cell \u001b[0;32mIn[2], line 15\u001b[0m\n\u001b[1;32m     10\u001b[0m     \u001b[38;5;28;01mexcept\u001b[39;00m \u001b[38;5;167;01mFileNotFoundError\u001b[39;00m:\n\u001b[1;32m     11\u001b[0m         \u001b[38;5;28mprint\u001b[39m(\u001b[38;5;124mf\u001b[39m\u001b[38;5;124m'\u001b[39m\u001b[38;5;124mcsv file \u001b[39m\u001b[38;5;132;01m{\u001b[39;00mname\u001b[38;5;132;01m}\u001b[39;00m\u001b[38;5;124m not found\u001b[39m\u001b[38;5;124m'\u001b[39m)\n\u001b[0;32m---> 15\u001b[0m df \u001b[38;5;241m=\u001b[39m \u001b[43mdflist\u001b[49m\u001b[43m[\u001b[49m\u001b[38;5;241;43m0\u001b[39;49m\u001b[43m]\u001b[49m\n\u001b[1;32m     16\u001b[0m omegavals \u001b[38;5;241m=\u001b[39m np\u001b[38;5;241m.\u001b[39marray(df\u001b[38;5;241m.\u001b[39mcolumns[\u001b[38;5;241m1\u001b[39m:],dtype\u001b[38;5;241m=\u001b[39mnp\u001b[38;5;241m.\u001b[39mfloat64)\n\u001b[1;32m     17\u001b[0m rvals \u001b[38;5;241m=\u001b[39m np\u001b[38;5;241m.\u001b[39marray(df\u001b[38;5;241m.\u001b[39mindex)\n",
      "\u001b[0;31mIndexError\u001b[0m: list index out of range"
     ]
    }
   ],
   "source": [
    "# %matplotlib notebook\n",
    "NUMGS = 8\n",
    "csv_names = [f'f{i}_complete_grid_results.csv' for i in range(NUMGS)]\n",
    "\n",
    "dflist = []\n",
    "for i, name in enumerate(csv_names):\n",
    "    try:\n",
    "        df = pd.read_csv(os.path.join(path_to_csv,name))\n",
    "        dflist.append(df)\n",
    "    except FileNotFoundError:\n",
    "        print(f'csv file {name} not found')\n",
    "    \n",
    "\n",
    "\n",
    "df = dflist[0]\n",
    "omegavals = np.array(df.columns[1:],dtype=np.float64)\n",
    "rvals = np.array(df.index)\n",
    "r_idx = 0\n",
    "nldos = (np.array(df.iloc[r_idx][1:]))\n",
    "plt.plot(omegavals, nldos)\n",
    "\n",
    "# plt.loglog(omegavals, nldos)"
   ]
  },
  {
   "cell_type": "code",
   "execution_count": 54,
   "id": "cbdc2806-4b54-4b1c-9e3c-263608a64748",
   "metadata": {},
   "outputs": [],
   "source": [
    "df.iloc?"
   ]
  },
  {
   "cell_type": "code",
   "execution_count": null,
   "id": "e8243b1a",
   "metadata": {},
   "outputs": [],
   "source": []
  }
 ],
 "metadata": {
  "kernelspec": {
   "display_name": "Python 3 (ipykernel)",
   "language": "python",
   "name": "python3"
  },
  "language_info": {
   "codemirror_mode": {
    "name": "ipython",
    "version": 3
   },
   "file_extension": ".py",
   "mimetype": "text/x-python",
   "name": "python",
   "nbconvert_exporter": "python",
   "pygments_lexer": "ipython3",
   "version": "3.10.8"
  }
 },
 "nbformat": 4,
 "nbformat_minor": 5
}
