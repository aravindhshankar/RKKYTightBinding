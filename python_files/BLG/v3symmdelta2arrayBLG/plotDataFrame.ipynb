{
 "cells": [
  {
   "cell_type": "code",
   "execution_count": 3,
   "id": "02fc88bc-2840-4173-bdc2-b982b04693c1",
   "metadata": {},
   "outputs": [
    {
     "name": "stdout",
     "output_type": "stream",
     "text": [
      "data loading step completed\n"
     ]
    }
   ],
   "source": [
    "import numpy as np \n",
    "import pandas as pd\n",
    "import matplotlib as mpl\n",
    "mpl.use('Qt5Agg')\n",
    "from matplotlib import pyplot as plt\n",
    "import sys, os\n",
    "path_to_csv = './csvresults/'\n",
    "# from grid_config import rvals\n",
    "rvals = np.array([0,1,2,3,4,10,11,12,50,51,52,99,100,101])\n",
    "\n",
    " \n",
    "\n",
    "#data loading step\n",
    "NUMGS = 8\n",
    "csv_names = [f'f{i}_complete_grid_results.csv' for i in range(NUMGS)]\n",
    "\n",
    "dflist = []\n",
    "for i, name in enumerate(csv_names):\n",
    "    try:\n",
    "        df = pd.read_csv(os.path.join(path_to_csv,name))\n",
    "        dflist.append(df)\n",
    "    except FileNotFoundError:\n",
    "        print(f'csv file {name} not found')\n",
    "        \n",
    "print('data loading step completed')"
   ]
  },
  {
   "cell_type": "markdown",
   "id": "33b1ede2",
   "metadata": {},
   "source": [
    "### How the data is stored : \n",
    "Each data frame dflist[i] contains the ldos and nldos as a function omega,r with each dflist[i:0-7]\n",
    "being a different site combination.\n",
    "\n",
    "The column indices are the omegavals, and in principle the index should be the r distance, but it didn't assign it properly for some reason, but the correct r index can be accesed from the array rvals."
   ]
  },
  {
   "cell_type": "code",
   "execution_count": null,
   "id": "6b4a01c7-d631-4ce2-8c71-67b9635d4750",
   "metadata": {},
   "outputs": [],
   "source": [
    "# %matplotlib notebook\n",
    "\n",
    "\n",
    "# for i in (0,):\n",
    "#     df = dflist[i]\n",
    "#     omegavals = np.array(df.columns[1:],dtype=np.float64)\n",
    "#     #rvals = np.array(df.index)\n",
    "#     r_idx = 12\n",
    "#     nldos = (np.array(df.iloc[r_idx][1:]))\n",
    "#     plt.plot(omegavals, nldos,label=f'r = {rvals[r_idx]}')\n",
    "# #     plt.loglog(-omegavals, np.abs(nldos),label=f'r = {rvals[r_idx]}')\n",
    "\n",
    "# plt.legend()\n",
    "# plt.show()\n"
   ]
  },
  {
   "cell_type": "code",
   "execution_count": null,
   "id": "e8243b1a",
   "metadata": {},
   "outputs": [],
   "source": [
    "# odd_nldos = (np.array(dflist[4].iloc[r_idx][1:])) / (np.array(dflist[0].iloc[r_idx][1:]))\n",
    "# plt.loglog(omegavals,np.abs(odd_nldos))\n",
    "# plt.show()"
   ]
  },
  {
   "cell_type": "code",
   "execution_count": null,
   "id": "10fc963b",
   "metadata": {},
   "outputs": [],
   "source": [
    "#Plotting the LDOS and NLDOS of A site for each value of distance r as function of omega\n",
    "df = dflist[0]\n",
    "omegavals = np.array(df.columns[1:],dtype=np.float64)\n",
    "# rvals = np.array(df.index)\n",
    "for r_idx in np.arange(12):\n",
    "    #     r_idx = 12\n",
    "    nldos = (np.array(df.iloc[r_idx][1:]))\n",
    "    plt.plot(omegavals, nldos,label=f'r = {rvals[r_idx]}')\n",
    "\n",
    "plt.legend()\n",
    "plt.show()"
   ]
  },
  {
   "cell_type": "code",
   "execution_count": 2,
   "id": "8db3a5de",
   "metadata": {},
   "outputs": [
    {
     "name": "stdout",
     "output_type": "stream",
     "text": [
      "Package          Version\n",
      "---------------- -----------\n",
      "bokeh            3.3.4\n",
      "click            8.1.7\n",
      "cloudpickle      3.1.0\n",
      "contourpy        1.3.0\n",
      "cycler           0.12.1\n",
      "dask             2022.7.0\n",
      "distributed      2022.7.0\n",
      "fonttools        4.54.1\n",
      "fsspec           2024.10.0\n",
      "h5py             3.12.1\n",
      "Jinja2           3.1.4\n",
      "kiwisolver       1.4.7\n",
      "locket           1.0.0\n",
      "MarkupSafe       3.0.2\n",
      "matplotlib       3.9.2\n",
      "mpmath           1.3.0\n",
      "msgpack          1.1.0\n",
      "numpy            1.26.4\n",
      "packaging        24.1\n",
      "pandas           2.2.3\n",
      "partd            1.4.2\n",
      "pillow           11.0.0\n",
      "pip              24.3.1\n",
      "psutil           6.1.0\n",
      "pymultinest      2.12\n",
      "pyparsing        3.2.0\n",
      "PyQt5            5.15.11\n",
      "PyQt5-Qt5        5.15.16\n",
      "PyQt5_sip        12.16.1\n",
      "python-dateutil  2.9.0.post0\n",
      "pytz             2024.2\n",
      "PyYAML           6.0.2\n",
      "scipy            1.10.0\n",
      "setuptools       65.5.0\n",
      "six              1.16.0\n",
      "sortedcontainers 2.4.0\n",
      "tblib            3.0.0\n",
      "toolz            1.0.0\n",
      "tornado          6.1\n",
      "tzdata           2024.2\n",
      "urllib3          2.2.3\n",
      "xyzservices      2024.9.0\n",
      "zict             3.0.0\n"
     ]
    }
   ],
   "source": []
  },
  {
   "cell_type": "code",
   "execution_count": 3,
   "id": "b85b5536-21e5-4c96-b926-16fb10364d11",
   "metadata": {},
   "outputs": [
    {
     "ename": "ModuleNotFoundError",
     "evalue": "No module named 'pycuba'",
     "output_type": "error",
     "traceback": [
      "\u001b[0;31m---------------------------------------------------------------------------\u001b[0m",
      "\u001b[0;31mModuleNotFoundError\u001b[0m                       Traceback (most recent call last)",
      "Cell \u001b[0;32mIn[3], line 1\u001b[0m\n\u001b[0;32m----> 1\u001b[0m \u001b[38;5;28;01mimport\u001b[39;00m \u001b[38;5;21;01mpycuba\u001b[39;00m\n",
      "\u001b[0;31mModuleNotFoundError\u001b[0m: No module named 'pycuba'"
     ]
    }
   ],
   "source": []
  },
  {
   "cell_type": "code",
   "execution_count": null,
   "id": "f1f79a5c-bd86-43de-8229-4ea3ffaa6909",
   "metadata": {},
   "outputs": [],
   "source": []
  }
 ],
 "metadata": {
  "kernelspec": {
   "display_name": "Python 3 (ipykernel)",
   "language": "python",
   "name": "python3"
  },
  "language_info": {
   "codemirror_mode": {
    "name": "ipython",
    "version": 3
   },
   "file_extension": ".py",
   "mimetype": "text/x-python",
   "name": "python",
   "nbconvert_exporter": "python",
   "pygments_lexer": "ipython3",
   "version": "3.10.9"
  }
 },
 "nbformat": 4,
 "nbformat_minor": 5
}
