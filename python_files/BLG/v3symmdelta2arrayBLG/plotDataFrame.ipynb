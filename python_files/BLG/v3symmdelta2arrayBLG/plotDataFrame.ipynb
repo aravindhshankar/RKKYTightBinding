{
 "cells": [
  {
   "cell_type": "code",
   "execution_count": null,
   "id": "02fc88bc-2840-4173-bdc2-b982b04693c1",
   "metadata": {},
   "outputs": [],
   "source": [
    "import numpy as np \n",
    "import pandas as pd\n",
    "import matplotlib as mpl\n",
    "mpl.use('Qt5Agg')\n",
    "from matplotlib import pyplot as plt\n",
    "import sys, os\n",
    "path_to_csv = './csvresults/'\n",
    "from grid_config import rvals\n",
    "\n",
    " \n",
    "\n",
    "#data loading step\n",
    "NUMGS = 8\n",
    "csv_names = [f'f{i}_complete_grid_results.csv' for i in range(NUMGS)]\n",
    "\n",
    "dflist = []\n",
    "for i, name in enumerate(csv_names):\n",
    "    try:\n",
    "        df = pd.read_csv(os.path.join(path_to_csv,name))\n",
    "        dflist.append(df)\n",
    "    except FileNotFoundError:\n",
    "        print(f'csv file {name} not found')\n",
    "        \n",
    "print('data loading step completed')"
   ]
  },
  {
   "cell_type": "markdown",
   "id": "33b1ede2",
   "metadata": {},
   "source": [
    "### How the data is stored : \n",
    "Each data frame dflist[i] contains the ldos and nldos as a function omega,r with each dflist[i:0-7]\n",
    "being a different site combination.\n",
    "\n",
    "The column indices are the omegavals, and in principle the index should be the r distance, but it didn't assign it properly for some reason, but the correct r index can be accesed from the array rvals."
   ]
  },
  {
   "cell_type": "code",
   "execution_count": null,
   "id": "6b4a01c7-d631-4ce2-8c71-67b9635d4750",
   "metadata": {},
   "outputs": [],
   "source": [
    "# %matplotlib notebook\n",
    "\n",
    "\n",
    "# for i in (0,):\n",
    "#     df = dflist[i]\n",
    "#     omegavals = np.array(df.columns[1:],dtype=np.float64)\n",
    "#     #rvals = np.array(df.index)\n",
    "#     r_idx = 12\n",
    "#     nldos = (np.array(df.iloc[r_idx][1:]))\n",
    "#     plt.plot(omegavals, nldos,label=f'r = {rvals[r_idx]}')\n",
    "# #     plt.loglog(-omegavals, np.abs(nldos),label=f'r = {rvals[r_idx]}')\n",
    "\n",
    "# plt.legend()\n",
    "# plt.show()\n"
   ]
  },
  {
   "cell_type": "code",
   "execution_count": null,
   "id": "e8243b1a",
   "metadata": {},
   "outputs": [],
   "source": [
    "# odd_nldos = (np.array(dflist[4].iloc[r_idx][1:])) / (np.array(dflist[0].iloc[r_idx][1:]))\n",
    "# plt.loglog(omegavals,np.abs(odd_nldos))\n",
    "# plt.show()"
   ]
  },
  {
   "cell_type": "code",
   "execution_count": null,
   "id": "10fc963b",
   "metadata": {},
   "outputs": [],
   "source": [
    "#Plotting the LDOS and NLDOS of A site for each value of distance r as function of omega\n",
    "df = dflist[0]\n",
    "omegavals = np.array(df.columns[1:],dtype=np.float64)\n",
    "# rvals = np.array(df.index)\n",
    "for r_idx in np.arange(12):\n",
    "    #     r_idx = 12\n",
    "    nldos = (np.array(df.iloc[r_idx][1:]))\n",
    "    plt.plot(omegavals, nldos,label=f'r = {rvals[r_idx]}')\n",
    "\n",
    "plt.legend()\n",
    "plt.show()"
   ]
  },
  {
   "cell_type": "code",
   "execution_count": null,
   "id": "8db3a5de",
   "metadata": {},
   "outputs": [],
   "source": []
  }
 ],
 "metadata": {
  "kernelspec": {
   "display_name": "Python 3 (ipykernel)",
   "language": "python",
   "name": "python3"
  },
  "language_info": {
   "codemirror_mode": {
    "name": "ipython",
    "version": 3
   },
   "file_extension": ".py",
   "mimetype": "text/x-python",
   "name": "python",
   "nbconvert_exporter": "python",
   "pygments_lexer": "ipython3",
   "version": "3.10.9"
  }
 },
 "nbformat": 4,
 "nbformat_minor": 5
}
