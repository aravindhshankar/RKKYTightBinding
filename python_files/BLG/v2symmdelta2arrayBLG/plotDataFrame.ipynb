{
 "cells": [
  {
   "cell_type": "code",
   "execution_count": 1,
   "id": "02fc88bc-2840-4173-bdc2-b982b04693c1",
   "metadata": {},
   "outputs": [],
   "source": [
    "import numpy as np \n",
    "import pandas as pd\n",
    "import matplotlib as mpl\n",
    "mpl.use('Qt5Agg')\n",
    "from matplotlib import pyplot as plt\n",
    "import sys, os\n",
    "path_to_csv = './csvresults/'"
   ]
  },
  {
   "cell_type": "code",
   "execution_count": null,
   "id": "6b4a01c7-d631-4ce2-8c71-67b9635d4750",
   "metadata": {},
   "outputs": [],
   "source": [
    "# %matplotlib notebook\n",
    "NUMGS = 8\n",
    "csv_names = [f'f{i}_complete_grid_results.csv' for i in range(NUMGS)]\n",
    "\n",
    "dflist = []\n",
    "for i, name in enumerate(csv_names):\n",
    "    try:\n",
    "        df = pd.read_csv(os.path.join(path_to_csv,name))\n",
    "        dflist.append(df)\n",
    "    except FileNotFoundError:\n",
    "        print(f'csv file {name} not found')\n",
    "    \n",
    "\n",
    "\n",
    "df = dflist[0]\n",
    "omegavals = np.array(df.columns[1:],dtype=np.float64)\n",
    "rvals = np.array(df.index)\n",
    "r_idx = 0\n",
    "nldos = (np.array(df.iloc[r_idx][1:]))\n",
    "plt.plot(omegavals, nldos)\n",
    "\n",
    "plt.show()\n",
    "# plt.loglog(omegavals, nldos)"
   ]
  },
  {
   "cell_type": "code",
   "execution_count": null,
   "id": "e8243b1a",
   "metadata": {},
   "outputs": [],
   "source": []
  }
 ],
 "metadata": {
  "kernelspec": {
   "display_name": "Python 3 (ipykernel)",
   "language": "python",
   "name": "python3"
  },
  "language_info": {
   "codemirror_mode": {
    "name": "ipython",
    "version": 3
   },
   "file_extension": ".py",
   "mimetype": "text/x-python",
   "name": "python",
   "nbconvert_exporter": "python",
   "pygments_lexer": "ipython3",
   "version": "3.10.8"
  }
 },
 "nbformat": 4,
 "nbformat_minor": 5
}
